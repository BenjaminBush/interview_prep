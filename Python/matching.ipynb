{
 "cells": [
  {
   "cell_type": "code",
   "execution_count": 8,
   "metadata": {},
   "outputs": [
    {
     "name": "stdout",
     "output_type": "stream",
     "text": [
      "Test case 1 is [[{}]] and is True\n",
      "Test case 2 is ({{}]) and is False\n",
      "Test case 3 is ){} and is False\n",
      "Test case 4 is []( and is False\n"
     ]
    }
   ],
   "source": [
    "#!/usr/bin/python3\n",
    "\n",
    "def match(opens, closed):\n",
    "    if opens == '(' and closed == ')':\n",
    "        return True\n",
    "    elif opens == '{' and closed == '}':\n",
    "        return True\n",
    "    elif opens == '[' and closed == ']':\n",
    "        return True\n",
    "    else:\n",
    "        return False\n",
    "\n",
    "def is_matched(string):\n",
    "    stack = []\n",
    "\n",
    "    opens = []\n",
    "    opens.append('{')\n",
    "    opens.append('[')\n",
    "    opens.append('(')\n",
    "\n",
    "    closed = []\n",
    "    closed.append('}')\n",
    "    closed.append(']')\n",
    "    closed.append(')')\n",
    "\n",
    "    for el in string:\n",
    "        if el in opens:\n",
    "            stack.append(el)\n",
    "        elif el in closed:\n",
    "            if len(stack) > 0:\n",
    "                corr = stack.pop()\n",
    "                if match(corr, el):\n",
    "                    continue\n",
    "                else:\n",
    "                    return False\n",
    "            else:\n",
    "                return False\n",
    "        else:\n",
    "            return False\n",
    "\n",
    "    return len(stack) == 0\n",
    "\n",
    "\n",
    "\n",
    "def main():\n",
    "    test_case1 = \"[[{}]]\"\n",
    "    test_case2 = \"({{}])\"\n",
    "    test_case3 = \"){}\"\n",
    "    test_case4= \"[](\"\n",
    "\n",
    "\n",
    "    print(\"Test case 1 is \" + test_case1 + \" and is \" + str(is_matched(test_case1)))\n",
    "    print(\"Test case 2 is \" + test_case2 + \" and is \" + str(is_matched(test_case2)))\n",
    "    print(\"Test case 3 is \" + test_case3 + \" and is \" + str(is_matched(test_case3)))\n",
    "    print(\"Test case 4 is \" + test_case4 + \" and is \" + str(is_matched(test_case4)))\n",
    "    \n",
    "if __name__=='__main__':\n",
    "    main()\n"
   ]
  },
  {
   "cell_type": "code",
   "execution_count": null,
   "metadata": {},
   "outputs": [],
   "source": []
  }
 ],
 "metadata": {
  "kernelspec": {
   "display_name": "Python 3",
   "language": "python",
   "name": "python3"
  },
  "language_info": {
   "codemirror_mode": {
    "name": "ipython",
    "version": 3
   },
   "file_extension": ".py",
   "mimetype": "text/x-python",
   "name": "python",
   "nbconvert_exporter": "python",
   "pygments_lexer": "ipython3",
   "version": "3.5.2"
  }
 },
 "nbformat": 4,
 "nbformat_minor": 2
}
