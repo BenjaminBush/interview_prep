{
 "cells": [
  {
   "cell_type": "code",
   "execution_count": 3,
   "metadata": {
    "collapsed": false
   },
   "outputs": [
    {
     "name": "stdout",
     "output_type": "stream",
     "text": [
      "sssssssssssssssssssssssssssssssssssssssssssssssssssssssssssssssssssssssssssssssssssssss\n",
      "tttttttttttttttttttttttttttttttttttttsssssssssssssssss\n",
      "107\n"
     ]
    }
   ],
   "source": [
    "def number_needed(a, b):\n",
    "    a_counts = build_letter_counts(a)\n",
    "    b_counts = build_letter_counts(b)\n",
    "    \n",
    "    deleted = 0\n",
    "    \n",
    "    for i in range(0, len(a_counts)):\n",
    "        deleted += abs(a_counts[i] - b_counts[i])\n",
    "    \n",
    "    return deleted\n",
    "\n",
    "def build_letter_counts(string):\n",
    "    counts = [0]*26\n",
    "    for char in string:\n",
    "            counts[ord(char) - ord('a')] += 1\n",
    "    return counts\n",
    "            \n",
    "a = input().strip()\n",
    "b = input().strip()\n",
    "\n",
    "print(number_needed(a, b))\n"
   ]
  },
  {
   "cell_type": "code",
   "execution_count": null,
   "metadata": {
    "collapsed": true
   },
   "outputs": [],
   "source": []
  },
  {
   "cell_type": "code",
   "execution_count": null,
   "metadata": {
    "collapsed": true
   },
   "outputs": [],
   "source": []
  }
 ],
 "metadata": {
  "kernelspec": {
   "display_name": "Python 3",
   "language": "python",
   "name": "python3"
  },
  "language_info": {
   "codemirror_mode": {
    "name": "ipython",
    "version": 3
   },
   "file_extension": ".py",
   "mimetype": "text/x-python",
   "name": "python",
   "nbconvert_exporter": "python",
   "pygments_lexer": "ipython3",
   "version": "3.5.2"
  }
 },
 "nbformat": 4,
 "nbformat_minor": 2
}
