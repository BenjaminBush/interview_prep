{
 "cells": [
  {
   "cell_type": "code",
   "execution_count": 3,
   "metadata": {},
   "outputs": [
    {
     "name": "stdout",
     "output_type": "stream",
     "text": [
      "3\n",
      "3\n",
      "4\n",
      "1\n",
      "1\n",
      "7\n",
      "44\n"
     ]
    }
   ],
   "source": [
    "#!/bin/python3\n",
    "\n",
    "import math\n",
    "import os\n",
    "import random\n",
    "import re\n",
    "import sys\n",
    "\n",
    "# Davis can take steps of size 1, 2, or 3\n",
    "\n",
    "# Complete the stepPerms function below.\n",
    "\n",
    "cache = {}\n",
    "steps = [1, 2, 3]\n",
    "def stepPerms(n):\n",
    "    global cache\n",
    "    ret = 0\n",
    "    if n < 0:\n",
    "        return\n",
    "    for s in steps:\n",
    "        if (n-s) >= 0:\n",
    "            if (n-s) in cache:\n",
    "                res = cache[(n-s)]\n",
    "            else:\n",
    "                res = stepPerms(n-s)\n",
    "                cache[(n-s)] = res\n",
    "            ret += res\n",
    "        if (n-s) == 0:\n",
    "            ret += 1\n",
    "    return ret\n",
    "            \n",
    "\n",
    "if __name__ == '__main__':\n",
    "    fptr = open(os.environ['OUTPUT_PATH'], 'w')\n",
    "\n",
    "    s = int(input())\n",
    "\n",
    "    for s_itr in range(s):\n",
    "        n = int(input())\n",
    "\n",
    "        res = stepPerms(n)\n",
    "\n",
    "        fptr.write(str(res) + '\\n')\n",
    "\n",
    "    fptr.close()"
   ]
  },
  {
   "cell_type": "code",
   "execution_count": null,
   "metadata": {
    "collapsed": true
   },
   "outputs": [],
   "source": []
  }
 ],
 "metadata": {
  "kernelspec": {
   "display_name": "Python 3",
   "language": "python",
   "name": "python3"
  },
  "language_info": {
   "codemirror_mode": {
    "name": "ipython",
    "version": 3
   },
   "file_extension": ".py",
   "mimetype": "text/x-python",
   "name": "python",
   "nbconvert_exporter": "python",
   "pygments_lexer": "ipython3",
   "version": "3.6.5"
  }
 },
 "nbformat": 4,
 "nbformat_minor": 2
}
