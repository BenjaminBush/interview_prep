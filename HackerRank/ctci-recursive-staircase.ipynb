{
 "cells": [
  {
   "cell_type": "code",
   "execution_count": 3,
   "metadata": {
    "collapsed": false
   },
   "outputs": [
    {
     "name": "stdout",
     "output_type": "stream",
     "text": [
      "3\n",
      "3\n",
      "4\n",
      "1\n",
      "1\n",
      "7\n",
      "44\n"
     ]
    }
   ],
   "source": [
    "def climb(n):\n",
    "    last = 0\n",
    "    middle = 1\n",
    "    first = 1\n",
    "    for i in range(0, n-1):\n",
    "        current = last + middle + first\n",
    "        last = middle\n",
    "        middle = first\n",
    "        first = current\n",
    "    return first\n",
    "s = int(input().strip())\n",
    "for a0 in range(s):\n",
    "    n = int(input().strip())\n",
    "    print(climb(n))"
   ]
  },
  {
   "cell_type": "code",
   "execution_count": null,
   "metadata": {
    "collapsed": true
   },
   "outputs": [],
   "source": []
  }
 ],
 "metadata": {
  "kernelspec": {
   "display_name": "Python 3",
   "language": "python",
   "name": "python3"
  },
  "language_info": {
   "codemirror_mode": {
    "name": "ipython",
    "version": 3
   },
   "file_extension": ".py",
   "mimetype": "text/x-python",
   "name": "python",
   "nbconvert_exporter": "python",
   "pygments_lexer": "ipython3",
   "version": "3.5.2"
  }
 },
 "nbformat": 4,
 "nbformat_minor": 2
}
