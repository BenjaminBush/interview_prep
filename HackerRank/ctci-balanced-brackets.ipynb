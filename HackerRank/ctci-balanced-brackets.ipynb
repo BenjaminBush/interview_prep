{
 "cells": [
  {
   "cell_type": "code",
   "execution_count": null,
   "metadata": {
    "collapsed": false
   },
   "outputs": [],
   "source": [
    "def is_matched(expression):\n",
    "    if len(expression) % 2 != 0:\n",
    "        return False\n",
    "    \n",
    "    stack = []\n",
    "    for char in expression:\n",
    "        if char == '(' or char == '{' or char == '[':\n",
    "            stack.append(char)\n",
    "        else:\n",
    "            if len(stack) == 0:\n",
    "                return False\n",
    "            top = stack.pop()\n",
    "            if not((char == ')' and top == '(') or (char == '}' and top == '{') or (char == ']' and top == '[')):\n",
    "                return False\n",
    "            \n",
    "    return len(stack) == 0\n",
    "    \n",
    "\n",
    "t = int(input().strip())\n",
    "for a0 in range(t):\n",
    "    expression = input().strip()\n",
    "    if is_matched(expression) == True:\n",
    "        print(\"YES\")\n",
    "    else:\n",
    "        print(\"NO\")"
   ]
  },
  {
   "cell_type": "code",
   "execution_count": null,
   "metadata": {
    "collapsed": true
   },
   "outputs": [],
   "source": []
  },
  {
   "cell_type": "code",
   "execution_count": null,
   "metadata": {
    "collapsed": true
   },
   "outputs": [],
   "source": []
  }
 ],
 "metadata": {
  "kernelspec": {
   "display_name": "Python 3",
   "language": "python",
   "name": "python3"
  },
  "language_info": {
   "codemirror_mode": {
    "name": "ipython",
    "version": 3
   },
   "file_extension": ".py",
   "mimetype": "text/x-python",
   "name": "python",
   "nbconvert_exporter": "python",
   "pygments_lexer": "ipython3",
   "version": "3.5.2"
  }
 },
 "nbformat": 4,
 "nbformat_minor": 2
}
