{
 "cells": [
  {
   "cell_type": "code",
   "execution_count": null,
   "metadata": {
    "collapsed": true
   },
   "outputs": [],
   "source": [
    "def ransom_note(magazine, ransom):\n",
    "    mag_map = {}\n",
    "    for word in magazine:\n",
    "        if word in mag_map:\n",
    "            mag_map[word] += 1\n",
    "        else:\n",
    "            mag_map[word] = 1\n",
    "    for word in ransom:\n",
    "        if word in mag_map:\n",
    "            if mag_map[word] > 0:\n",
    "                mag_map[word] -= 1\n",
    "            else:\n",
    "                return False\n",
    "    return True\n",
    "    \n",
    "\n",
    "m, n = map(int, input().strip().split(' '))\n",
    "magazine = input().strip().split(' ')\n",
    "ransom = input().strip().split(' ')\n",
    "answer = ransom_note(magazine, ransom)\n",
    "if(answer):\n",
    "    print(\"Yes\")\n",
    "else:\n",
    "    print(\"No\")"
   ]
  }
 ],
 "metadata": {
  "kernelspec": {
   "display_name": "Python 3",
   "language": "python",
   "name": "python3"
  },
  "language_info": {
   "codemirror_mode": {
    "name": "ipython",
    "version": 3
   },
   "file_extension": ".py",
   "mimetype": "text/x-python",
   "name": "python",
   "nbconvert_exporter": "python",
   "pygments_lexer": "ipython3",
   "version": "3.5.2"
  }
 },
 "nbformat": 4,
 "nbformat_minor": 2
}
