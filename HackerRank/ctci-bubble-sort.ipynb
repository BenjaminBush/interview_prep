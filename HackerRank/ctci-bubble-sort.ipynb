{
 "cells": [
  {
   "cell_type": "code",
   "execution_count": 4,
   "metadata": {
    "collapsed": false,
    "scrolled": true
   },
   "outputs": [
    {
     "name": "stdout",
     "output_type": "stream",
     "text": [
      "3\n",
      "3 2 1\n",
      "3, 2\n",
      "2, 1\n",
      "2\n",
      "3, 2\n",
      "2, 1\n",
      "2\n",
      "3, 2\n",
      "2, 1\n",
      "2\n",
      "Array is sorted in 6 swaps.\n",
      "First Element: 3\n",
      "Last Element: 1\n"
     ]
    }
   ],
   "source": [
    "def bubblesort(a):\n",
    "    totalswaps = 0\n",
    "    for i in range(len(a) - 1, 0, -1):\n",
    "        numSwaps = 0\n",
    "        for j in range(i):\n",
    "            if a[j] > a[j+1]:\n",
    "                temp = a[j]\n",
    "                a[j] = a[j+1]\n",
    "                a[j+1] = temp\n",
    "                numSwaps += 1\n",
    "        totalswaps += numSwaps\n",
    "        if numSwaps == 0:\n",
    "            break\n",
    "    print(\"Array is sorted in \" + str(totalswaps) + \" swaps.\")\n",
    "    print(\"First Element: \" + str(a[0]))\n",
    "    print(\"Last Element: \" + str(a[len(a) - 1]))\n",
    "    \n",
    "def swap(left, right):\n",
    "    temp = left\n",
    "    left = right\n",
    "    right = temp\n",
    "    \n",
    "n = int(input().strip())\n",
    "a = list(map(int, input().strip().split(' ')))\n",
    "bubblesort(a)\n",
    "\n",
    "\n"
   ]
  },
  {
   "cell_type": "code",
   "execution_count": null,
   "metadata": {
    "collapsed": true
   },
   "outputs": [],
   "source": []
  }
 ],
 "metadata": {
  "kernelspec": {
   "display_name": "Python 3",
   "language": "python",
   "name": "python3"
  },
  "language_info": {
   "codemirror_mode": {
    "name": "ipython",
    "version": 3
   },
   "file_extension": ".py",
   "mimetype": "text/x-python",
   "name": "python",
   "nbconvert_exporter": "python",
   "pygments_lexer": "ipython3",
   "version": "3.5.2"
  }
 },
 "nbformat": 4,
 "nbformat_minor": 2
}
