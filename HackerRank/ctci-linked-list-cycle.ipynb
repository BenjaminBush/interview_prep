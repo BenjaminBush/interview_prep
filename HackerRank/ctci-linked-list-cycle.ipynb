{
 "cells": [
  {
   "cell_type": "code",
   "execution_count": null,
   "metadata": {
    "collapsed": true
   },
   "outputs": [],
   "source": [
    "class Node(object):\n",
    "    def __init__(self, data=None, next_node=None)\n",
    "        self.data = data\n",
    "        self.next = next_node\n",
    "\n",
    "def has_cycle(head):\n",
    "    if head == None:\n",
    "        return False\n",
    "    slow_pointer = head\n",
    "    fast_pointer = head\n",
    "    \n",
    "    while slow_pointer and fast_pointer and fast_pointer.next:\n",
    "        slow_pointer = slow_pointer.next\n",
    "        fast_pointer = fast_pointer.next.next\n",
    "        if slow_pointer == fast_pointer:\n",
    "            return True\n",
    "    return False\n",
    "    \n"
   ]
  }
 ],
 "metadata": {
  "kernelspec": {
   "display_name": "Python 3",
   "language": "python",
   "name": "python3"
  },
  "language_info": {
   "codemirror_mode": {
    "name": "ipython",
    "version": 3
   },
   "file_extension": ".py",
   "mimetype": "text/x-python",
   "name": "python",
   "nbconvert_exporter": "python",
   "pygments_lexer": "ipython3",
   "version": "3.5.2"
  }
 },
 "nbformat": 4,
 "nbformat_minor": 2
}
