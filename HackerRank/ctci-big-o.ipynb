{
 "cells": [
  {
   "cell_type": "code",
   "execution_count": null,
   "metadata": {
    "collapsed": true
   },
   "outputs": [],
   "source": [
    "def isPrime(n):\n",
    "    if n < 2:\n",
    "        return \"Not prime\"\n",
    "    if n == 2:\n",
    "        return \"Prime\"\n",
    "    if n == 3:\n",
    "        return \"Prime\"\n",
    "    if n % 2 == 0:\n",
    "        return \"Not prime\"\n",
    "    i = 3\n",
    "    while i*i <= n:\n",
    "        if n % i == 0:\n",
    "            return \"Not prime\"\n",
    "        i += 1\n",
    "    return \"Prime\"\n",
    "\n",
    "p = int(input().strip())\n",
    "for a0 in range(p):\n",
    "    n = int(input().strip())\n",
    "    print(isPrime(n))\n"
   ]
  }
 ],
 "metadata": {
  "kernelspec": {
   "display_name": "Python 3",
   "language": "python",
   "name": "python3"
  },
  "language_info": {
   "codemirror_mode": {
    "name": "ipython",
    "version": 3
   },
   "file_extension": ".py",
   "mimetype": "text/x-python",
   "name": "python",
   "nbconvert_exporter": "python",
   "pygments_lexer": "ipython3",
   "version": "3.5.2"
  }
 },
 "nbformat": 4,
 "nbformat_minor": 2
}
